{
 "cells": [
  {
   "cell_type": "code",
   "execution_count": 16,
   "id": "8b2c99fe-308e-48be-8587-93d8a382591c",
   "metadata": {},
   "outputs": [],
   "source": [
    "import pandas as pd\n",
    "import numpy as np"
   ]
  },
  {
   "cell_type": "code",
   "execution_count": 19,
   "id": "d8542b09-5d41-455a-af0c-7cdd5454d61c",
   "metadata": {},
   "outputs": [],
   "source": [
    "df=pd.read_csv('Student Depression Dataset.csv')\n"
   ]
  },
  {
   "cell_type": "code",
   "execution_count": 21,
   "id": "06c57df3-522f-4231-acfe-ce3ecff7739c",
   "metadata": {},
   "outputs": [
    {
     "data": {
      "text/html": [
       "<div>\n",
       "<style scoped>\n",
       "    .dataframe tbody tr th:only-of-type {\n",
       "        vertical-align: middle;\n",
       "    }\n",
       "\n",
       "    .dataframe tbody tr th {\n",
       "        vertical-align: top;\n",
       "    }\n",
       "\n",
       "    .dataframe thead th {\n",
       "        text-align: right;\n",
       "    }\n",
       "</style>\n",
       "<table border=\"1\" class=\"dataframe\">\n",
       "  <thead>\n",
       "    <tr style=\"text-align: right;\">\n",
       "      <th></th>\n",
       "      <th>id</th>\n",
       "      <th>Gender</th>\n",
       "      <th>Age</th>\n",
       "      <th>City</th>\n",
       "      <th>Profession</th>\n",
       "      <th>Academic Pressure</th>\n",
       "      <th>Work Pressure</th>\n",
       "      <th>CGPA</th>\n",
       "      <th>Study Satisfaction</th>\n",
       "      <th>Job Satisfaction</th>\n",
       "      <th>Sleep Duration</th>\n",
       "      <th>Dietary Habits</th>\n",
       "      <th>Degree</th>\n",
       "      <th>Have you ever had suicidal thoughts ?</th>\n",
       "      <th>Work/Study Hours</th>\n",
       "      <th>Financial Stress</th>\n",
       "      <th>Family History of Mental Illness</th>\n",
       "      <th>Depression</th>\n",
       "    </tr>\n",
       "  </thead>\n",
       "  <tbody>\n",
       "    <tr>\n",
       "      <th>0</th>\n",
       "      <td>2</td>\n",
       "      <td>Male</td>\n",
       "      <td>33.0</td>\n",
       "      <td>Visakhapatnam</td>\n",
       "      <td>Student</td>\n",
       "      <td>5.0</td>\n",
       "      <td>0.0</td>\n",
       "      <td>8.97</td>\n",
       "      <td>2.0</td>\n",
       "      <td>0.0</td>\n",
       "      <td>5-6 hours</td>\n",
       "      <td>Healthy</td>\n",
       "      <td>B.Pharm</td>\n",
       "      <td>Yes</td>\n",
       "      <td>3.0</td>\n",
       "      <td>1.0</td>\n",
       "      <td>No</td>\n",
       "      <td>1</td>\n",
       "    </tr>\n",
       "    <tr>\n",
       "      <th>1</th>\n",
       "      <td>8</td>\n",
       "      <td>Female</td>\n",
       "      <td>24.0</td>\n",
       "      <td>Bangalore</td>\n",
       "      <td>Student</td>\n",
       "      <td>2.0</td>\n",
       "      <td>0.0</td>\n",
       "      <td>5.90</td>\n",
       "      <td>5.0</td>\n",
       "      <td>0.0</td>\n",
       "      <td>5-6 hours</td>\n",
       "      <td>Moderate</td>\n",
       "      <td>BSc</td>\n",
       "      <td>No</td>\n",
       "      <td>3.0</td>\n",
       "      <td>2.0</td>\n",
       "      <td>Yes</td>\n",
       "      <td>0</td>\n",
       "    </tr>\n",
       "    <tr>\n",
       "      <th>2</th>\n",
       "      <td>26</td>\n",
       "      <td>Male</td>\n",
       "      <td>31.0</td>\n",
       "      <td>Srinagar</td>\n",
       "      <td>Student</td>\n",
       "      <td>3.0</td>\n",
       "      <td>0.0</td>\n",
       "      <td>7.03</td>\n",
       "      <td>5.0</td>\n",
       "      <td>0.0</td>\n",
       "      <td>Less than 5 hours</td>\n",
       "      <td>Healthy</td>\n",
       "      <td>BA</td>\n",
       "      <td>No</td>\n",
       "      <td>9.0</td>\n",
       "      <td>1.0</td>\n",
       "      <td>Yes</td>\n",
       "      <td>0</td>\n",
       "    </tr>\n",
       "    <tr>\n",
       "      <th>3</th>\n",
       "      <td>30</td>\n",
       "      <td>Female</td>\n",
       "      <td>28.0</td>\n",
       "      <td>Varanasi</td>\n",
       "      <td>Student</td>\n",
       "      <td>3.0</td>\n",
       "      <td>0.0</td>\n",
       "      <td>5.59</td>\n",
       "      <td>2.0</td>\n",
       "      <td>0.0</td>\n",
       "      <td>7-8 hours</td>\n",
       "      <td>Moderate</td>\n",
       "      <td>BCA</td>\n",
       "      <td>Yes</td>\n",
       "      <td>4.0</td>\n",
       "      <td>5.0</td>\n",
       "      <td>Yes</td>\n",
       "      <td>1</td>\n",
       "    </tr>\n",
       "    <tr>\n",
       "      <th>4</th>\n",
       "      <td>32</td>\n",
       "      <td>Female</td>\n",
       "      <td>25.0</td>\n",
       "      <td>Jaipur</td>\n",
       "      <td>Student</td>\n",
       "      <td>4.0</td>\n",
       "      <td>0.0</td>\n",
       "      <td>8.13</td>\n",
       "      <td>3.0</td>\n",
       "      <td>0.0</td>\n",
       "      <td>5-6 hours</td>\n",
       "      <td>Moderate</td>\n",
       "      <td>M.Tech</td>\n",
       "      <td>Yes</td>\n",
       "      <td>1.0</td>\n",
       "      <td>1.0</td>\n",
       "      <td>No</td>\n",
       "      <td>0</td>\n",
       "    </tr>\n",
       "  </tbody>\n",
       "</table>\n",
       "</div>"
      ],
      "text/plain": [
       "   id  Gender   Age           City Profession  Academic Pressure  \\\n",
       "0   2    Male  33.0  Visakhapatnam    Student                5.0   \n",
       "1   8  Female  24.0      Bangalore    Student                2.0   \n",
       "2  26    Male  31.0       Srinagar    Student                3.0   \n",
       "3  30  Female  28.0       Varanasi    Student                3.0   \n",
       "4  32  Female  25.0         Jaipur    Student                4.0   \n",
       "\n",
       "   Work Pressure  CGPA  Study Satisfaction  Job Satisfaction  \\\n",
       "0            0.0  8.97                 2.0               0.0   \n",
       "1            0.0  5.90                 5.0               0.0   \n",
       "2            0.0  7.03                 5.0               0.0   \n",
       "3            0.0  5.59                 2.0               0.0   \n",
       "4            0.0  8.13                 3.0               0.0   \n",
       "\n",
       "      Sleep Duration Dietary Habits   Degree  \\\n",
       "0          5-6 hours        Healthy  B.Pharm   \n",
       "1          5-6 hours       Moderate      BSc   \n",
       "2  Less than 5 hours        Healthy       BA   \n",
       "3          7-8 hours       Moderate      BCA   \n",
       "4          5-6 hours       Moderate   M.Tech   \n",
       "\n",
       "  Have you ever had suicidal thoughts ?  Work/Study Hours  Financial Stress  \\\n",
       "0                                   Yes               3.0               1.0   \n",
       "1                                    No               3.0               2.0   \n",
       "2                                    No               9.0               1.0   \n",
       "3                                   Yes               4.0               5.0   \n",
       "4                                   Yes               1.0               1.0   \n",
       "\n",
       "  Family History of Mental Illness  Depression  \n",
       "0                               No           1  \n",
       "1                              Yes           0  \n",
       "2                              Yes           0  \n",
       "3                              Yes           1  \n",
       "4                               No           0  "
      ]
     },
     "execution_count": 21,
     "metadata": {},
     "output_type": "execute_result"
    }
   ],
   "source": [
    "df.head()"
   ]
  },
  {
   "cell_type": "code",
   "execution_count": 22,
   "id": "d0b778fa-fe9e-4d60-b3d6-c1174fa5852c",
   "metadata": {},
   "outputs": [],
   "source": [
    "df = df.drop(['id','Profession', 'Academic Pressure', 'Work Pressure', 'Job Satisfaction', 'Degree'], axis=1)"
   ]
  },
  {
   "cell_type": "code",
   "execution_count": 23,
   "id": "9803b262-1565-4665-a62a-f754a52d3bff",
   "metadata": {},
   "outputs": [
    {
     "data": {
      "text/html": [
       "<div>\n",
       "<style scoped>\n",
       "    .dataframe tbody tr th:only-of-type {\n",
       "        vertical-align: middle;\n",
       "    }\n",
       "\n",
       "    .dataframe tbody tr th {\n",
       "        vertical-align: top;\n",
       "    }\n",
       "\n",
       "    .dataframe thead th {\n",
       "        text-align: right;\n",
       "    }\n",
       "</style>\n",
       "<table border=\"1\" class=\"dataframe\">\n",
       "  <thead>\n",
       "    <tr style=\"text-align: right;\">\n",
       "      <th></th>\n",
       "      <th>Gender</th>\n",
       "      <th>Age</th>\n",
       "      <th>City</th>\n",
       "      <th>CGPA</th>\n",
       "      <th>Study Satisfaction</th>\n",
       "      <th>Sleep Duration</th>\n",
       "      <th>Dietary Habits</th>\n",
       "      <th>Have you ever had suicidal thoughts ?</th>\n",
       "      <th>Work/Study Hours</th>\n",
       "      <th>Financial Stress</th>\n",
       "      <th>Family History of Mental Illness</th>\n",
       "      <th>Depression</th>\n",
       "    </tr>\n",
       "  </thead>\n",
       "  <tbody>\n",
       "    <tr>\n",
       "      <th>0</th>\n",
       "      <td>Male</td>\n",
       "      <td>33.0</td>\n",
       "      <td>Visakhapatnam</td>\n",
       "      <td>8.97</td>\n",
       "      <td>2.0</td>\n",
       "      <td>5-6 hours</td>\n",
       "      <td>Healthy</td>\n",
       "      <td>Yes</td>\n",
       "      <td>3.0</td>\n",
       "      <td>1.0</td>\n",
       "      <td>No</td>\n",
       "      <td>1</td>\n",
       "    </tr>\n",
       "    <tr>\n",
       "      <th>1</th>\n",
       "      <td>Female</td>\n",
       "      <td>24.0</td>\n",
       "      <td>Bangalore</td>\n",
       "      <td>5.90</td>\n",
       "      <td>5.0</td>\n",
       "      <td>5-6 hours</td>\n",
       "      <td>Moderate</td>\n",
       "      <td>No</td>\n",
       "      <td>3.0</td>\n",
       "      <td>2.0</td>\n",
       "      <td>Yes</td>\n",
       "      <td>0</td>\n",
       "    </tr>\n",
       "    <tr>\n",
       "      <th>2</th>\n",
       "      <td>Male</td>\n",
       "      <td>31.0</td>\n",
       "      <td>Srinagar</td>\n",
       "      <td>7.03</td>\n",
       "      <td>5.0</td>\n",
       "      <td>Less than 5 hours</td>\n",
       "      <td>Healthy</td>\n",
       "      <td>No</td>\n",
       "      <td>9.0</td>\n",
       "      <td>1.0</td>\n",
       "      <td>Yes</td>\n",
       "      <td>0</td>\n",
       "    </tr>\n",
       "    <tr>\n",
       "      <th>3</th>\n",
       "      <td>Female</td>\n",
       "      <td>28.0</td>\n",
       "      <td>Varanasi</td>\n",
       "      <td>5.59</td>\n",
       "      <td>2.0</td>\n",
       "      <td>7-8 hours</td>\n",
       "      <td>Moderate</td>\n",
       "      <td>Yes</td>\n",
       "      <td>4.0</td>\n",
       "      <td>5.0</td>\n",
       "      <td>Yes</td>\n",
       "      <td>1</td>\n",
       "    </tr>\n",
       "    <tr>\n",
       "      <th>4</th>\n",
       "      <td>Female</td>\n",
       "      <td>25.0</td>\n",
       "      <td>Jaipur</td>\n",
       "      <td>8.13</td>\n",
       "      <td>3.0</td>\n",
       "      <td>5-6 hours</td>\n",
       "      <td>Moderate</td>\n",
       "      <td>Yes</td>\n",
       "      <td>1.0</td>\n",
       "      <td>1.0</td>\n",
       "      <td>No</td>\n",
       "      <td>0</td>\n",
       "    </tr>\n",
       "  </tbody>\n",
       "</table>\n",
       "</div>"
      ],
      "text/plain": [
       "   Gender   Age           City  CGPA  Study Satisfaction     Sleep Duration  \\\n",
       "0    Male  33.0  Visakhapatnam  8.97                 2.0          5-6 hours   \n",
       "1  Female  24.0      Bangalore  5.90                 5.0          5-6 hours   \n",
       "2    Male  31.0       Srinagar  7.03                 5.0  Less than 5 hours   \n",
       "3  Female  28.0       Varanasi  5.59                 2.0          7-8 hours   \n",
       "4  Female  25.0         Jaipur  8.13                 3.0          5-6 hours   \n",
       "\n",
       "  Dietary Habits Have you ever had suicidal thoughts ?  Work/Study Hours  \\\n",
       "0        Healthy                                   Yes               3.0   \n",
       "1       Moderate                                    No               3.0   \n",
       "2        Healthy                                    No               9.0   \n",
       "3       Moderate                                   Yes               4.0   \n",
       "4       Moderate                                   Yes               1.0   \n",
       "\n",
       "   Financial Stress Family History of Mental Illness  Depression  \n",
       "0               1.0                               No           1  \n",
       "1               2.0                              Yes           0  \n",
       "2               1.0                              Yes           0  \n",
       "3               5.0                              Yes           1  \n",
       "4               1.0                               No           0  "
      ]
     },
     "execution_count": 23,
     "metadata": {},
     "output_type": "execute_result"
    }
   ],
   "source": [
    "df.head()"
   ]
  },
  {
   "cell_type": "code",
   "execution_count": 25,
   "id": "acfc8dec-8aa6-4207-a159-cd0b98bbca5f",
   "metadata": {},
   "outputs": [],
   "source": [
    "df['Depression'] = df['Depression'].replace([0, 1], ['Não', 'Sim'])"
   ]
  },
  {
   "cell_type": "code",
   "execution_count": 26,
   "id": "1e35afc2-555b-4f5e-a949-96b5702473b8",
   "metadata": {},
   "outputs": [
    {
     "data": {
      "text/html": [
       "<div>\n",
       "<style scoped>\n",
       "    .dataframe tbody tr th:only-of-type {\n",
       "        vertical-align: middle;\n",
       "    }\n",
       "\n",
       "    .dataframe tbody tr th {\n",
       "        vertical-align: top;\n",
       "    }\n",
       "\n",
       "    .dataframe thead th {\n",
       "        text-align: right;\n",
       "    }\n",
       "</style>\n",
       "<table border=\"1\" class=\"dataframe\">\n",
       "  <thead>\n",
       "    <tr style=\"text-align: right;\">\n",
       "      <th></th>\n",
       "      <th>Gender</th>\n",
       "      <th>Age</th>\n",
       "      <th>City</th>\n",
       "      <th>CGPA</th>\n",
       "      <th>Study Satisfaction</th>\n",
       "      <th>Sleep Duration</th>\n",
       "      <th>Dietary Habits</th>\n",
       "      <th>Have you ever had suicidal thoughts ?</th>\n",
       "      <th>Work/Study Hours</th>\n",
       "      <th>Financial Stress</th>\n",
       "      <th>Family History of Mental Illness</th>\n",
       "      <th>Depression</th>\n",
       "    </tr>\n",
       "  </thead>\n",
       "  <tbody>\n",
       "    <tr>\n",
       "      <th>0</th>\n",
       "      <td>Male</td>\n",
       "      <td>33.0</td>\n",
       "      <td>Visakhapatnam</td>\n",
       "      <td>8.97</td>\n",
       "      <td>2.0</td>\n",
       "      <td>5-6 hours</td>\n",
       "      <td>Healthy</td>\n",
       "      <td>Yes</td>\n",
       "      <td>3.0</td>\n",
       "      <td>1.0</td>\n",
       "      <td>No</td>\n",
       "      <td>Sim</td>\n",
       "    </tr>\n",
       "    <tr>\n",
       "      <th>1</th>\n",
       "      <td>Female</td>\n",
       "      <td>24.0</td>\n",
       "      <td>Bangalore</td>\n",
       "      <td>5.90</td>\n",
       "      <td>5.0</td>\n",
       "      <td>5-6 hours</td>\n",
       "      <td>Moderate</td>\n",
       "      <td>No</td>\n",
       "      <td>3.0</td>\n",
       "      <td>2.0</td>\n",
       "      <td>Yes</td>\n",
       "      <td>Não</td>\n",
       "    </tr>\n",
       "    <tr>\n",
       "      <th>2</th>\n",
       "      <td>Male</td>\n",
       "      <td>31.0</td>\n",
       "      <td>Srinagar</td>\n",
       "      <td>7.03</td>\n",
       "      <td>5.0</td>\n",
       "      <td>Less than 5 hours</td>\n",
       "      <td>Healthy</td>\n",
       "      <td>No</td>\n",
       "      <td>9.0</td>\n",
       "      <td>1.0</td>\n",
       "      <td>Yes</td>\n",
       "      <td>Não</td>\n",
       "    </tr>\n",
       "    <tr>\n",
       "      <th>3</th>\n",
       "      <td>Female</td>\n",
       "      <td>28.0</td>\n",
       "      <td>Varanasi</td>\n",
       "      <td>5.59</td>\n",
       "      <td>2.0</td>\n",
       "      <td>7-8 hours</td>\n",
       "      <td>Moderate</td>\n",
       "      <td>Yes</td>\n",
       "      <td>4.0</td>\n",
       "      <td>5.0</td>\n",
       "      <td>Yes</td>\n",
       "      <td>Sim</td>\n",
       "    </tr>\n",
       "    <tr>\n",
       "      <th>4</th>\n",
       "      <td>Female</td>\n",
       "      <td>25.0</td>\n",
       "      <td>Jaipur</td>\n",
       "      <td>8.13</td>\n",
       "      <td>3.0</td>\n",
       "      <td>5-6 hours</td>\n",
       "      <td>Moderate</td>\n",
       "      <td>Yes</td>\n",
       "      <td>1.0</td>\n",
       "      <td>1.0</td>\n",
       "      <td>No</td>\n",
       "      <td>Não</td>\n",
       "    </tr>\n",
       "  </tbody>\n",
       "</table>\n",
       "</div>"
      ],
      "text/plain": [
       "   Gender   Age           City  CGPA  Study Satisfaction     Sleep Duration  \\\n",
       "0    Male  33.0  Visakhapatnam  8.97                 2.0          5-6 hours   \n",
       "1  Female  24.0      Bangalore  5.90                 5.0          5-6 hours   \n",
       "2    Male  31.0       Srinagar  7.03                 5.0  Less than 5 hours   \n",
       "3  Female  28.0       Varanasi  5.59                 2.0          7-8 hours   \n",
       "4  Female  25.0         Jaipur  8.13                 3.0          5-6 hours   \n",
       "\n",
       "  Dietary Habits Have you ever had suicidal thoughts ?  Work/Study Hours  \\\n",
       "0        Healthy                                   Yes               3.0   \n",
       "1       Moderate                                    No               3.0   \n",
       "2        Healthy                                    No               9.0   \n",
       "3       Moderate                                   Yes               4.0   \n",
       "4       Moderate                                   Yes               1.0   \n",
       "\n",
       "   Financial Stress Family History of Mental Illness Depression  \n",
       "0               1.0                               No        Sim  \n",
       "1               2.0                              Yes        Não  \n",
       "2               1.0                              Yes        Não  \n",
       "3               5.0                              Yes        Sim  \n",
       "4               1.0                               No        Não  "
      ]
     },
     "execution_count": 26,
     "metadata": {},
     "output_type": "execute_result"
    }
   ],
   "source": [
    "df.head()"
   ]
  },
  {
   "cell_type": "code",
   "execution_count": 27,
   "id": "69182a9f-b8e4-4779-bd5c-2be1245e853e",
   "metadata": {},
   "outputs": [],
   "source": [
    "df['Work/Study Hours'] = pd.to_numeric(df['Work/Study Hours'], errors='coerce').astype('Int64')"
   ]
  },
  {
   "cell_type": "code",
   "execution_count": 28,
   "id": "e57272e8-1779-41b3-af3a-64f9e5d7e110",
   "metadata": {},
   "outputs": [],
   "source": [
    "df['Age'] = pd.to_numeric(df['Age'], errors='coerce').astype('Int64')"
   ]
  },
  {
   "cell_type": "code",
   "execution_count": 29,
   "id": "ba523f6e-ce69-4136-9573-a1138a33904a",
   "metadata": {},
   "outputs": [
    {
     "data": {
      "text/html": [
       "<div>\n",
       "<style scoped>\n",
       "    .dataframe tbody tr th:only-of-type {\n",
       "        vertical-align: middle;\n",
       "    }\n",
       "\n",
       "    .dataframe tbody tr th {\n",
       "        vertical-align: top;\n",
       "    }\n",
       "\n",
       "    .dataframe thead th {\n",
       "        text-align: right;\n",
       "    }\n",
       "</style>\n",
       "<table border=\"1\" class=\"dataframe\">\n",
       "  <thead>\n",
       "    <tr style=\"text-align: right;\">\n",
       "      <th></th>\n",
       "      <th>Gender</th>\n",
       "      <th>Age</th>\n",
       "      <th>City</th>\n",
       "      <th>CGPA</th>\n",
       "      <th>Study Satisfaction</th>\n",
       "      <th>Sleep Duration</th>\n",
       "      <th>Dietary Habits</th>\n",
       "      <th>Have you ever had suicidal thoughts ?</th>\n",
       "      <th>Work/Study Hours</th>\n",
       "      <th>Financial Stress</th>\n",
       "      <th>Family History of Mental Illness</th>\n",
       "      <th>Depression</th>\n",
       "    </tr>\n",
       "  </thead>\n",
       "  <tbody>\n",
       "    <tr>\n",
       "      <th>0</th>\n",
       "      <td>Male</td>\n",
       "      <td>33</td>\n",
       "      <td>Visakhapatnam</td>\n",
       "      <td>8.97</td>\n",
       "      <td>2.0</td>\n",
       "      <td>5-6 hours</td>\n",
       "      <td>Healthy</td>\n",
       "      <td>Yes</td>\n",
       "      <td>3</td>\n",
       "      <td>1.0</td>\n",
       "      <td>No</td>\n",
       "      <td>Sim</td>\n",
       "    </tr>\n",
       "    <tr>\n",
       "      <th>1</th>\n",
       "      <td>Female</td>\n",
       "      <td>24</td>\n",
       "      <td>Bangalore</td>\n",
       "      <td>5.90</td>\n",
       "      <td>5.0</td>\n",
       "      <td>5-6 hours</td>\n",
       "      <td>Moderate</td>\n",
       "      <td>No</td>\n",
       "      <td>3</td>\n",
       "      <td>2.0</td>\n",
       "      <td>Yes</td>\n",
       "      <td>Não</td>\n",
       "    </tr>\n",
       "    <tr>\n",
       "      <th>2</th>\n",
       "      <td>Male</td>\n",
       "      <td>31</td>\n",
       "      <td>Srinagar</td>\n",
       "      <td>7.03</td>\n",
       "      <td>5.0</td>\n",
       "      <td>Less than 5 hours</td>\n",
       "      <td>Healthy</td>\n",
       "      <td>No</td>\n",
       "      <td>9</td>\n",
       "      <td>1.0</td>\n",
       "      <td>Yes</td>\n",
       "      <td>Não</td>\n",
       "    </tr>\n",
       "    <tr>\n",
       "      <th>3</th>\n",
       "      <td>Female</td>\n",
       "      <td>28</td>\n",
       "      <td>Varanasi</td>\n",
       "      <td>5.59</td>\n",
       "      <td>2.0</td>\n",
       "      <td>7-8 hours</td>\n",
       "      <td>Moderate</td>\n",
       "      <td>Yes</td>\n",
       "      <td>4</td>\n",
       "      <td>5.0</td>\n",
       "      <td>Yes</td>\n",
       "      <td>Sim</td>\n",
       "    </tr>\n",
       "    <tr>\n",
       "      <th>4</th>\n",
       "      <td>Female</td>\n",
       "      <td>25</td>\n",
       "      <td>Jaipur</td>\n",
       "      <td>8.13</td>\n",
       "      <td>3.0</td>\n",
       "      <td>5-6 hours</td>\n",
       "      <td>Moderate</td>\n",
       "      <td>Yes</td>\n",
       "      <td>1</td>\n",
       "      <td>1.0</td>\n",
       "      <td>No</td>\n",
       "      <td>Não</td>\n",
       "    </tr>\n",
       "  </tbody>\n",
       "</table>\n",
       "</div>"
      ],
      "text/plain": [
       "   Gender  Age           City  CGPA  Study Satisfaction     Sleep Duration  \\\n",
       "0    Male   33  Visakhapatnam  8.97                 2.0          5-6 hours   \n",
       "1  Female   24      Bangalore  5.90                 5.0          5-6 hours   \n",
       "2    Male   31       Srinagar  7.03                 5.0  Less than 5 hours   \n",
       "3  Female   28       Varanasi  5.59                 2.0          7-8 hours   \n",
       "4  Female   25         Jaipur  8.13                 3.0          5-6 hours   \n",
       "\n",
       "  Dietary Habits Have you ever had suicidal thoughts ?  Work/Study Hours  \\\n",
       "0        Healthy                                   Yes                 3   \n",
       "1       Moderate                                    No                 3   \n",
       "2        Healthy                                    No                 9   \n",
       "3       Moderate                                   Yes                 4   \n",
       "4       Moderate                                   Yes                 1   \n",
       "\n",
       "   Financial Stress Family History of Mental Illness Depression  \n",
       "0               1.0                               No        Sim  \n",
       "1               2.0                              Yes        Não  \n",
       "2               1.0                              Yes        Não  \n",
       "3               5.0                              Yes        Sim  \n",
       "4               1.0                               No        Não  "
      ]
     },
     "execution_count": 29,
     "metadata": {},
     "output_type": "execute_result"
    }
   ],
   "source": [
    "df.head()"
   ]
  },
  {
   "cell_type": "code",
   "execution_count": 33,
   "id": "0c4cc736-fcb7-42ea-bfc7-7ae6bab6938a",
   "metadata": {
    "scrolled": true
   },
   "outputs": [],
   "source": [
    "media_idade_depressivos = df.loc[df['Depression'] == 'Sim', 'Age'].mean()\n"
   ]
  },
  {
   "cell_type": "code",
   "execution_count": 34,
   "id": "28823d1e-26f1-4929-b577-45a50fcb2975",
   "metadata": {},
   "outputs": [],
   "source": [
    "media_idade_nao_depressivos = df.loc[df['Depression'] == 'Não', 'Age'].mean()"
   ]
  },
  {
   "cell_type": "code",
   "execution_count": 35,
   "id": "115a96d4-74f7-49e5-a740-3822931a2859",
   "metadata": {},
   "outputs": [
    {
     "name": "stdout",
     "output_type": "stream",
     "text": [
      "Média de idade dos estudantes depressivos: 24.89\n",
      "Média de idade dos estudantes não depressivos: 27.14\n"
     ]
    }
   ],
   "source": [
    "print(f\"Média de idade dos estudantes depressivos: {media_idade_depressivos:.2f}\")\n",
    "print(f\"Média de idade dos estudantes não depressivos: {media_idade_nao_depressivos:.2f}\")"
   ]
  },
  {
   "cell_type": "code",
   "execution_count": 36,
   "id": "9f0a3d3c-8d0c-4e6c-abca-78827dae816f",
   "metadata": {},
   "outputs": [],
   "source": [
    "prevalencia_por_genero = df.groupby('Gender')['Depression'].value_counts(normalize=True).unstack().fillna(0)"
   ]
  },
  {
   "cell_type": "code",
   "execution_count": 37,
   "id": "8bd730d8-dfcd-4cdd-bb37-f2258cbdc56a",
   "metadata": {},
   "outputs": [
    {
     "name": "stdout",
     "output_type": "stream",
     "text": [
      "Depression       Não       Sim\n",
      "Gender                        \n",
      "Female      0.415493  0.584507\n",
      "Male        0.413713  0.586287\n"
     ]
    }
   ],
   "source": [
    "print(prevalencia_por_genero)"
   ]
  },
  {
   "cell_type": "code",
   "execution_count": null,
   "id": "ebfb13ba-a1f9-4bcf-92b2-0b71e46fde6e",
   "metadata": {},
   "outputs": [],
   "source": []
  },
  {
   "cell_type": "code",
   "execution_count": 39,
   "id": "14805277-7168-485b-b81f-e88c9c21ebc8",
   "metadata": {},
   "outputs": [
    {
     "name": "stdout",
     "output_type": "stream",
     "text": [
      "Tabela de Contingência:\n",
      " Have you ever had suicidal thoughts ?    No   Yes\n",
      "Family History of Mental Illness                 \n",
      "No                                     5463  8935\n",
      "Yes                                    4782  8721\n"
     ]
    }
   ],
   "source": [
    "cross_tab = pd.crosstab(df['Family History of Mental Illness'], df['Have you ever had suicidal thoughts ?'])\n",
    "print(\"Tabela de Contingência:\\n\", cross_tab)\n"
   ]
  },
  {
   "cell_type": "markdown",
   "id": "0ccbe143-f646-4b03-8e4f-ccda3e6bc7d2",
   "metadata": {},
   "source": [
    "Calculo de proporção"
   ]
  },
  {
   "cell_type": "code",
   "execution_count": 45,
   "id": "919ee0b6-2511-4624-8b79-e142014063e7",
   "metadata": {},
   "outputs": [],
   "source": [
    "import scipy.stats as stats"
   ]
  },
  {
   "cell_type": "code",
   "execution_count": 47,
   "id": "0c9522ec-d37e-4dd8-84db-32da82225ee0",
   "metadata": {},
   "outputs": [],
   "source": [
    "# Dados da tabela de contingência\n",
    "\n",
    "dados = {\n",
    "    'Have you ever had suicidal thoughts ?': ['No', 'Yes'],\n",
    "    'No': [5463, 8935],\n",
    "    'Yes': [4782, 8721]}"
   ]
  },
  {
   "cell_type": "code",
   "execution_count": 48,
   "id": "9e62beb0-5629-4702-9006-ab4acc0e6f4c",
   "metadata": {},
   "outputs": [],
   "source": [
    "df = pd.DataFrame(dados).set_index('Have you ever had suicidal thoughts ?')"
   ]
  },
  {
   "cell_type": "code",
   "execution_count": 50,
   "id": "a4dd1087-2f78-4400-89f4-e5f559fd3a48",
   "metadata": {},
   "outputs": [],
   "source": [
    "# 1. Cálculo de Proporções/Porcentagens\n",
    "\n",
    "total_sem_historico = df.loc['No'].sum()\n",
    "total_com_historico = df.loc['Yes'].sum()"
   ]
  },
  {
   "cell_type": "code",
   "execution_count": 51,
   "id": "179a4219-ea9d-4cb4-9241-67da3b8a00cc",
   "metadata": {},
   "outputs": [],
   "source": [
    "porcentagem_pensamentos_sem_historico = (df.loc['No', 'Yes'] / total_sem_historico) * 100\n",
    "porcentagem_pensamentos_com_historico = (df.loc['Yes', 'Yes'] / total_com_historico) * 100"
   ]
  },
  {
   "cell_type": "code",
   "execution_count": 52,
   "id": "2b43291e-7925-4098-b0a2-95a0b645f8d0",
   "metadata": {},
   "outputs": [
    {
     "name": "stdout",
     "output_type": "stream",
     "text": [
      "Porcentagem com pensamentos suicidas (Sem Histórico): 46.68%\n",
      "Porcentagem com pensamentos suicidas (Com Histórico): 49.39%\n"
     ]
    }
   ],
   "source": [
    "print(f\"Porcentagem com pensamentos suicidas (Sem Histórico): {porcentagem_pensamentos_sem_historico:.2f}%\")\n",
    "print(f\"Porcentagem com pensamentos suicidas (Com Histórico): {porcentagem_pensamentos_com_historico:.2f}%\")"
   ]
  },
  {
   "cell_type": "code",
   "execution_count": 53,
   "id": "252679d0-ba21-4c56-9683-738c7c589f9b",
   "metadata": {},
   "outputs": [
    {
     "name": "stdout",
     "output_type": "stream",
     "text": [
      "\n",
      "Teste Qui-Quadrado:\n",
      "Chi2: 19.06, p-valor: 0.0000\n"
     ]
    }
   ],
   "source": [
    "# 2. Teste Qui-Quadrado\n",
    "\n",
    "chi2, p, dof, expected = stats.chi2_contingency(df)\n",
    "print(f\"\\nTeste Qui-Quadrado:\\nChi2: {chi2:.2f}, p-valor: {p:.4f}\")"
   ]
  },
  {
   "cell_type": "code",
   "execution_count": 54,
   "id": "dd938e39-4641-49ff-9706-88e18d3f674e",
   "metadata": {},
   "outputs": [],
   "source": [
    "# 3. Razão de Chances (Odds Ratio)\n",
    "\n",
    "odds_sem_historico = df.loc['No', 'Yes'] / df.loc['No', 'No']\n",
    "odds_com_historico = df.loc['Yes', 'Yes'] / df.loc['Yes', 'No']\n",
    "odds_ratio = odds_com_historico / odds_sem_historico"
   ]
  },
  {
   "cell_type": "code",
   "execution_count": 55,
   "id": "9c385720-1b91-4e21-b086-93991475b8b9",
   "metadata": {},
   "outputs": [
    {
     "name": "stdout",
     "output_type": "stream",
     "text": [
      "\n",
      "Razão de Chances (Odds Ratio): 1.12\n"
     ]
    }
   ],
   "source": [
    "print(f\"\\nRazão de Chances (Odds Ratio): {odds_ratio:.2f}\")"
   ]
  },
  {
   "cell_type": "code",
   "execution_count": 56,
   "id": "3b5d3bf4-5742-43b7-9135-711bc9d017fc",
   "metadata": {},
   "outputs": [
    {
     "name": "stdout",
     "output_type": "stream",
     "text": [
      "\n",
      "Associação estatisticamente significativa encontrada.\n",
      "O histórico familiar aumenta a chance de pensamentos suicidas.\n"
     ]
    }
   ],
   "source": [
    "# Interpretação dos resultados\n",
    "\n",
    "if p < 0.05:\n",
    "    print(\"\\nAssociação estatisticamente significativa encontrada.\")\n",
    "else:\n",
    "    print(\"\\nNenhuma associação estatisticamente significativa encontrada.\")\n",
    "\n",
    "if odds_ratio > 1:\n",
    "    print(\"O histórico familiar aumenta a chance de pensamentos suicidas.\")\n",
    "else:\n",
    "    print(\"O histórico familiar não aumenta a chance de pensamentos suicidas.\")"
   ]
  }
 ],
 "metadata": {
  "kernelspec": {
   "display_name": "anaconda-ai-2024.04-py310",
   "language": "python",
   "name": "conda-env-anaconda-ai-2024.04-py310-py"
  },
  "language_info": {
   "codemirror_mode": {
    "name": "ipython",
    "version": 3
   },
   "file_extension": ".py",
   "mimetype": "text/x-python",
   "name": "python",
   "nbconvert_exporter": "python",
   "pygments_lexer": "ipython3",
   "version": "3.10.13"
  }
 },
 "nbformat": 4,
 "nbformat_minor": 5
}
